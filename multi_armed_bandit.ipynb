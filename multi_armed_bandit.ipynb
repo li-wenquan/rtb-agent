{
 "cells": [
  {
   "cell_type": "code",
   "execution_count": 1,
   "metadata": {},
   "outputs": [],
   "source": [
    "import numpy as np\n",
    "import pandas as pd\n",
    "import matplotlib.pyplot as plt\n",
    "import random\n",
    "import math\n",
    "import seaborn as sns\n",
    "sns.set_style(\"darkgrid\")"
   ]
  },
  {
   "cell_type": "code",
   "execution_count": 2,
   "metadata": {},
   "outputs": [],
   "source": [
    "data = pd.read_csv(\"data.csv\")"
   ]
  },
  {
   "cell_type": "code",
   "execution_count": 3,
   "metadata": {},
   "outputs": [
    {
     "name": "stdout",
     "output_type": "stream",
     "text": [
      "     0    1    2    3    4    5    6    7    8\n",
      "0  0.0  0.0  0.0  0.0  1.0  0.0  0.0  0.0  0.0\n",
      "1  0.0  0.0  1.0  0.0  0.0  0.0  1.0  1.0  0.0\n",
      "2  0.0  0.0  0.0  0.0  0.0  0.0  0.0  1.0  0.0\n",
      "3  0.0  0.0  0.0  1.0  0.0  0.0  1.0  0.0  1.0\n",
      "4  0.0  0.0  0.0  0.0  1.0  0.0  1.0  0.0  0.0\n"
     ]
    }
   ],
   "source": [
    "print(data.head())"
   ]
  },
  {
   "cell_type": "code",
   "execution_count": 4,
   "metadata": {},
   "outputs": [],
   "source": [
    "### Random"
   ]
  },
  {
   "cell_type": "code",
   "execution_count": 23,
   "metadata": {},
   "outputs": [
    {
     "name": "stdout",
     "output_type": "stream",
     "text": [
      "10574.4\n",
      "85.57943678244209\n"
     ]
    }
   ],
   "source": [
    "arr = []\n",
    "num_trials = 30\n",
    "for _ in range(num_trials):\n",
    "    n = 50000\n",
    "    num_ads = 9\n",
    "    total_reward = 0\n",
    "\n",
    "    chosen_ad = np.zeros(num_ads)      \n",
    "    for i in range(n):  \n",
    "        selected_ad = random.randrange(num_ads)\n",
    "        chosen_ad[selected_ad] += 1\n",
    "        val = data.values[i,selected_ad]\n",
    "        total_reward += val\n",
    "    arr.append(total_reward)\n",
    "arr = np.array(arr)\n",
    "print(np.mean(arr))\n",
    "print(np.std(arr))"
   ]
  },
  {
   "cell_type": "code",
   "execution_count": 14,
   "metadata": {},
   "outputs": [
    {
     "name": "stdout",
     "output_type": "stream",
     "text": [
      "Total Reward Choosing Random Ad:  10678.0\n"
     ]
    },
    {
     "data": {
      "image/png": "[encoded data removed]",
      "text/plain": [
       "<Figure size 432x288 with 1 Axes>"
      ]
     },
     "metadata": {},
     "output_type": "display_data"
    }
   ],
   "source": [
    "print('Total Reward Choosing Random Ad: ', total_reward)\n",
    "x = list(range(num_ads))\n",
    "plt.bar(x,chosen_ad)\n",
    "plt.xlabel('Ad Number')\n",
    "plt.ylabel('Count')\n",
    "plt.savefig(\"random.png\")\n",
    "plt.show()"
   ]
  },
  {
   "cell_type": "code",
   "execution_count": 15,
   "metadata": {},
   "outputs": [],
   "source": [
    "### UCB"
   ]
  },
  {
   "cell_type": "code",
   "execution_count": 37,
   "metadata": {},
   "outputs": [],
   "source": [
    "n = 50000           \n",
    "num_ads = 9                 \n",
    "chosen_ad = []                     \n",
    "number_of_selections = [0] * num_ads\n",
    "ad_reward = [0] * num_ads \n",
    "overall_reward = 0 "
   ]
  },
  {
   "cell_type": "code",
   "execution_count": 38,
   "metadata": {},
   "outputs": [],
   "source": [
    "for i in range(n):\n",
    "    max_upper_bound = 0     \n",
    "    ad = 0               \n",
    "    for j in range(0,num_ads): \n",
    "        if (number_of_selections[j] > 0):\n",
    "            average_reward = ad_reward[j]/number_of_selections[j]  \n",
    "            dj = (math.sqrt(3/2) * math.log(i + 1)/number_of_selections[j])    \n",
    "            upper_bound = average_reward + dj           \n",
    "        else:\n",
    "            upper_bound = 1e5                  \n",
    "        if upper_bound > max_upper_bound:\n",
    "            max_upper_bound = upper_bound\n",
    "            ad = j\n",
    "    chosen_ad.append(ad)                \n",
    "    number_of_selections[ad] += 1  \n",
    "    reward = data.values[i,ad]              \n",
    "    ad_reward[ad] += reward       \n",
    "    overall_reward += reward "
   ]
  },
  {
   "cell_type": "code",
   "execution_count": 39,
   "metadata": {},
   "outputs": [
    {
     "name": "stdout",
     "output_type": "stream",
     "text": [
      "Total Reward UCB Approach:  17128.0\n"
     ]
    },
    {
     "data": {
      "image/png": "[encoded data removed]",
      "text/plain": [
       "<Figure size 432x288 with 1 Axes>"
      ]
     },
     "metadata": {},
     "output_type": "display_data"
    }
   ],
   "source": [
    "print('Total Reward UCB Approach: ', overall_reward)\n",
    "plt.hist(chosen_ad)\n",
    "plt.xlabel('Ad Number')\n",
    "plt.ylabel('Count')\n",
    "plt.savefig(\"ucb.png\")\n",
    "plt.show()"
   ]
  },
  {
   "cell_type": "code",
   "execution_count": 11,
   "metadata": {},
   "outputs": [],
   "source": [
    "### Actual Data Distribution"
   ]
  },
  {
   "cell_type": "code",
   "execution_count": 12,
   "metadata": {},
   "outputs": [
    {
     "data": {
      "image/png": "[encoded data removed]",
      "text/plain": [
       "<Figure size 432x288 with 1 Axes>"
      ]
     },
     "metadata": {},
     "output_type": "display_data"
    }
   ],
   "source": [
    "actual_counts = (np.sum(data,axis = 0))\n",
    "x = list(range(num_ads))\n",
    "plt.bar(x,actual_counts)\n",
    "plt.xlabel('Ad Number')\n",
    "plt.ylabel('Actual Count in Dataset')\n",
    "plt.savefig(\"actual_data_distribution.png\")\n",
    "plt.show()"
   ]
  },
  {
   "cell_type": "code",
   "execution_count": 13,
   "metadata": {},
   "outputs": [],
   "source": [
    "### Epsilon Greedy"
   ]
  },
  {
   "cell_type": "code",
   "execution_count": 25,
   "metadata": {},
   "outputs": [],
   "source": [
    "class Bandit: \n",
    "    def __init__(self,num_ads): \n",
    "        self.ads = np.zeros(num_ads) \n",
    "        self.estimates = np.zeros(num_ads) \n",
    "\n",
    "\n",
    "    def choose(self,epsilon):\n",
    "        rand_num = np.random.random() \n",
    "        if rand_num < epsilon: \n",
    "            return np.random.randint(num_ads) \n",
    "        else: \n",
    "            return np.argmax(self.estimates)\n",
    "\n",
    "    def update(self,action,reward): \n",
    "        self.ads[action] += 1 \n",
    "        alpha = 1./self.ads[action] \n",
    "        self.estimates[action] += alpha * (reward - self.estimates[action])"
   ]
  },
  {
   "cell_type": "code",
   "execution_count": 26,
   "metadata": {},
   "outputs": [],
   "source": [
    "def experiment(bandit,data,epsilon):\n",
    "    history = [] \n",
    "    for i in range(data.shape[0]): \n",
    "        action = bandit.choose(epsilon)\n",
    "        R = data.iloc[i,action]\n",
    "        bandit.update(action,R) \n",
    "        history.append(R) \n",
    "    return np.sum(np.array(history))"
   ]
  },
  {
   "cell_type": "code",
   "execution_count": 27,
   "metadata": {},
   "outputs": [
    {
     "name": "stdout",
     "output_type": "stream",
     "text": [
      "50000\n"
     ]
    }
   ],
   "source": [
    "print(data.shape[0])"
   ]
  },
  {
   "cell_type": "code",
   "execution_count": 35,
   "metadata": {},
   "outputs": [
    {
     "name": "stdout",
     "output_type": "stream",
     "text": [
      "Total Reward for Each Configuration is:  [16339.3 16717.8 16355.2 15555.  14920.3 14208.6 13265.7 12268.9]\n"
     ]
    }
   ],
   "source": [
    "num_trials = 10\n",
    "num_ads = 9\n",
    "epsilon_vals = [0.01,0.05,0.1,0.25,0.35,0.45,0.6,0.75]\n",
    "configuration_arr = np.zeros(len(epsilon_vals))\n",
    "\n",
    "\n",
    "for i in range(num_trials):\n",
    "    for j in range(len(epsilon_vals)):\n",
    "        bandit = Bandit(num_ads) \n",
    "        configuration_arr[j] += experiment(bandit,data,epsilon_vals[j]) \n",
    "\n",
    "configuration_arr = configuration_arr/num_trials\n",
    "\n",
    "print(\"Total Reward for Each Configuration is: \", configuration_arr)\n",
    "\n"
   ]
  },
  {
   "cell_type": "code",
   "execution_count": 29,
   "metadata": {},
   "outputs": [
    {
     "name": "stdout",
     "output_type": "stream",
     "text": [
      "16660.4\n",
      "335.24862415825066\n"
     ]
    }
   ],
   "source": [
    "num_trials = 10\n",
    "num_ads = 9\n",
    "epsilon_vals = [0.05]\n",
    "configuration_arr = np.zeros(len(epsilon_vals))\n",
    "\n",
    "arr = []\n",
    "for i in range(num_trials):\n",
    "    for j in range(len(epsilon_vals)):\n",
    "        bandit = Bandit(num_ads) \n",
    "        arr.append(experiment(bandit,data,epsilon_vals[j]))\n",
    "\n",
    "arr = np.array(arr)\n",
    "print(np.mean(arr))\n",
    "print(np.std(arr))\n"
   ]
  },
  {
   "cell_type": "code",
   "execution_count": 36,
   "metadata": {},
   "outputs": [
    {
     "data": {
      "image/png": "[encoded data removed]",
      "text/plain": [
       "<Figure size 432x288 with 1 Axes>"
      ]
     },
     "metadata": {},
     "output_type": "display_data"
    }
   ],
   "source": [
    "plt.scatter(epsilon_vals,configuration_arr)\n",
    "plt.xlabel(\"Epsilon Values\")\n",
    "plt.ylabel(\"Reward\")\n",
    "plt.savefig(\"e-greedy.png\")\n",
    "plt.show()"
   ]
  },
  {
   "cell_type": "code",
   "execution_count": 19,
   "metadata": {},
   "outputs": [],
   "source": [
    "### Thompson sampling"
   ]
  },
  {
   "cell_type": "code",
   "execution_count": 40,
   "metadata": {},
   "outputs": [],
   "source": [
    "n = data.shape[0]\n",
    "num_ads = 9\n",
    "total_reward = 0\n",
    "prob = np.zeros(num_ads)\n",
    "success = np.zeros(num_ads, dtype=np.int)\n",
    "failure = np.zeros(num_ads, dtype=np.int)\n",
    "ad_chosen = np.zeros(num_ads, dtype=np.int)\n",
    "\n",
    "for i in range(n):\n",
    "  \n",
    "    for j in range(num_ads): \n",
    "        prob[j] = np.random.beta(success[j] + 1, failure[j] + 1)\n",
    "    \n",
    "    machine = np.argmax(prob)\n",
    "    ad_chosen[machine] += 1\n",
    "\n",
    "    if data.iloc[i,machine] == 1:\n",
    "        success[machine] += 1\n",
    "        total_reward += 1\n",
    "    else:\n",
    "        failure[machine] += 1\n"
   ]
  },
  {
   "cell_type": "code",
   "execution_count": 34,
   "metadata": {},
   "outputs": [
    {
     "name": "stdout",
     "output_type": "stream",
     "text": [
      "17105.7\n",
      "23.030631775963073\n"
     ]
    }
   ],
   "source": [
    "arr = []\n",
    "\n",
    "for _ in range(10):\n",
    "\n",
    "    n = data.shape[0]\n",
    "    num_ads = 9\n",
    "    total_reward = 0\n",
    "    prob = np.zeros(num_ads)\n",
    "    success = np.zeros(num_ads, dtype=np.int)\n",
    "    failure = np.zeros(num_ads, dtype=np.int)\n",
    "    ad_chosen = np.zeros(num_ads, dtype=np.int)\n",
    "\n",
    "    for i in range(n):\n",
    "\n",
    "        for j in range(num_ads): \n",
    "            prob[j] = np.random.beta(success[j] + 1, failure[j] + 1)\n",
    "\n",
    "        machine = np.argmax(prob)\n",
    "        ad_chosen[machine] += 1\n",
    "\n",
    "        if data.iloc[i,machine] == 1:\n",
    "            success[machine] += 1\n",
    "            total_reward += 1\n",
    "        else:\n",
    "            failure[machine] += 1\n",
    "            \n",
    "    arr.append(total_reward)\n",
    "\n",
    "arr = np.array(arr)\n",
    "print(np.mean(arr))\n",
    "print(np.std(arr))"
   ]
  },
  {
   "cell_type": "code",
   "execution_count": 41,
   "metadata": {},
   "outputs": [
    {
     "name": "stdout",
     "output_type": "stream",
     "text": [
      "Total Reward Thompson Sampling is:  17133\n"
     ]
    },
    {
     "data": {
      "image/png": "[encoded data removed]",
      "text/plain": [
       "<Figure size 432x288 with 1 Axes>"
      ]
     },
     "metadata": {},
     "output_type": "display_data"
    }
   ],
   "source": [
    "print(\"Total Reward Thompson Sampling is: \", total_reward)\n",
    "x = list(range(num_ads))\n",
    "plt.bar(x,ad_chosen)\n",
    "plt.xlabel('Ad Number')\n",
    "plt.ylabel('Count')\n",
    "plt.savefig(\"thompson.png\")\n",
    "plt.show()"
   ]
  },
  {
   "cell_type": "code",
   "execution_count": null,
   "metadata": {},
   "outputs": [],
   "source": []
  }
 ],
 "metadata": {
  "kernelspec": {
   "display_name": "Python 3",
   "language": "python",
   "name": "python3"
  },
  "language_info": {
   "codemirror_mode": {
    "name": "ipython",
    "version": 3
   },
   "file_extension": ".py",
   "mimetype": "text/x-python",
   "name": "python",
   "nbconvert_exporter": "python",
   "pygments_lexer": "ipython3",
   "version": "3.6.4"
  }
 },
 "nbformat": 4,
 "nbformat_minor": 2
}
